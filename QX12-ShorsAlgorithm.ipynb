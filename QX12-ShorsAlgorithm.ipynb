{
 "cells": [
  {
   "cell_type": "code",
   "execution_count": 1,
   "source": [
    "from qiskit import *\r\n",
    "from qiskit.algorithms import Shor"
   ],
   "outputs": [],
   "metadata": {}
  },
  {
   "cell_type": "code",
   "execution_count": 2,
   "source": [
    "quantum_instance = Aer.get_backend('qasm_simulator')\r\n",
    "shor = Shor(quantum_instance=quantum_instance)\r\n",
    "\r\n",
    "result = shor.factor(N=15, a=7)\r\n",
    "print(\"Factors: \", result.factors)"
   ],
   "outputs": [
    {
     "output_type": "stream",
     "name": "stdout",
     "text": [
      "Factors:  [[3, 5]]\n"
     ]
    }
   ],
   "metadata": {}
  },
  {
   "cell_type": "code",
   "execution_count": null,
   "source": [],
   "outputs": [],
   "metadata": {}
  }
 ],
 "metadata": {
  "orig_nbformat": 4,
  "language_info": {
   "name": "python",
   "version": "3.8.10",
   "mimetype": "text/x-python",
   "codemirror_mode": {
    "name": "ipython",
    "version": 3
   },
   "pygments_lexer": "ipython3",
   "nbconvert_exporter": "python",
   "file_extension": ".py"
  },
  "kernelspec": {
   "name": "python3",
   "display_name": "Python 3.8.10 64-bit ('base': conda)"
  },
  "interpreter": {
   "hash": "b864caac510b307f25c6686d867ef3af139ab82a8510c1ebdaed3fec82014694"
  }
 },
 "nbformat": 4,
 "nbformat_minor": 2
}